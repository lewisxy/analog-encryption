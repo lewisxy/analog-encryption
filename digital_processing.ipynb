{
 "cells": [
  {
   "attachments": {},
   "cell_type": "markdown",
   "metadata": {},
   "source": [
    "This notebook demonstrates the recording and processing of digitial audio signal"
   ]
  },
  {
   "cell_type": "code",
   "execution_count": 1,
   "metadata": {},
   "outputs": [],
   "source": [
    "import math\n",
    "import secrets\n",
    "import time\n",
    "import struct\n",
    "\n",
    "from typing import Callable, Any\n",
    "\n",
    "import numpy as np\n",
    "import numpy.fft\n",
    "import matplotlib.pyplot as plt\n",
    "%matplotlib inline\n",
    "\n",
    "import sounddevice as sd\n",
    "\n",
    "import utils\n",
    "import silk"
   ]
  },
  {
   "cell_type": "code",
   "execution_count": 2,
   "metadata": {},
   "outputs": [],
   "source": [
    "fsps=8000"
   ]
  },
  {
   "attachments": {},
   "cell_type": "markdown",
   "metadata": {},
   "source": [
    "Let's first record some audio, click start to record. Interrupt to stop."
   ]
  },
  {
   "cell_type": "code",
   "execution_count": 3,
   "metadata": {},
   "outputs": [
    {
     "name": "stdout",
     "output_type": "stream",
     "text": [
      "saved 35370 samples\n"
     ]
    }
   ],
   "source": [
    "def record_until_interruption(fsps):\n",
    "    recorder = sd.InputStream(samplerate=fsps, channels=1, dtype='int16')\n",
    "    buffer = []\n",
    "    recorder.start()\n",
    "    try:\n",
    "        while True:\n",
    "            avail = recorder.read_available\n",
    "            # data = np.zeros((avail,), dtype='int16')\n",
    "            data, overflow = recorder.read(avail)\n",
    "            if overflow:\n",
    "                print(f\"warning: data overflow\")\n",
    "            buffer.append(data)\n",
    "            # print(f\"saved {len(data)} samples\")\n",
    "            time.sleep(0.02)\n",
    "    except KeyboardInterrupt:\n",
    "        recorder.stop()\n",
    "        res = np.concatenate(buffer)\n",
    "        print(f\"saved {len(res)} samples\")\n",
    "        return res\n",
    "    \n",
    "samples = record_until_interruption(fsps)"
   ]
  },
  {
   "cell_type": "code",
   "execution_count": 4,
   "metadata": {},
   "outputs": [
    {
     "name": "stdout",
     "output_type": "stream",
     "text": [
      "(35370, 1)\n"
     ]
    }
   ],
   "source": [
    "print(samples.shape)\n",
    "# print(samples)"
   ]
  },
  {
   "attachments": {},
   "cell_type": "markdown",
   "metadata": {},
   "source": [
    "Listen to it to ensure it indeed records the data"
   ]
  },
  {
   "cell_type": "code",
   "execution_count": 5,
   "metadata": {},
   "outputs": [],
   "source": [
    "sd.play(samples, samplerate=fsps, blocking=True)"
   ]
  },
  {
   "cell_type": "code",
   "execution_count": 6,
   "metadata": {},
   "outputs": [],
   "source": [
    "block_size = int(0.1 * fsps) # each packet is 0.1s"
   ]
  },
  {
   "attachments": {},
   "cell_type": "markdown",
   "metadata": {},
   "source": [
    "Initialize the SILK encoder"
   ]
  },
  {
   "cell_type": "code",
   "execution_count": 7,
   "metadata": {},
   "outputs": [],
   "source": [
    "encoder = silk.Encoder()\n",
    "ec = silk.EncoderControl(sample_rate=8000, max_internal_sample_rate=8000, bit_rate=5000, packet_size=block_size)"
   ]
  },
  {
   "attachments": {},
   "cell_type": "markdown",
   "metadata": {},
   "source": [
    "Pad the sample so that it's a multiple of `block_size`"
   ]
  },
  {
   "cell_type": "code",
   "execution_count": 8,
   "metadata": {},
   "outputs": [
    {
     "data": {
      "text/plain": [
       "170"
      ]
     },
     "execution_count": 8,
     "metadata": {},
     "output_type": "execute_result"
    }
   ],
   "source": [
    "need_to_pad = len(samples) % block_size\n",
    "need_to_pad"
   ]
  },
  {
   "cell_type": "code",
   "execution_count": 9,
   "metadata": {},
   "outputs": [],
   "source": [
    "need_to_pad = 0 if len(samples) % block_size == 0 else block_size - (len(samples) % block_size)\n",
    "padded_samples = np.pad(samples, ((0, need_to_pad), (0, 0))).reshape(((len(samples) + need_to_pad) // block_size, block_size))"
   ]
  },
  {
   "attachments": {},
   "cell_type": "markdown",
   "metadata": {},
   "source": [
    "Encode the packets"
   ]
  },
  {
   "cell_type": "code",
   "execution_count": 10,
   "metadata": {},
   "outputs": [],
   "source": [
    "res = []\n",
    "for x in padded_samples:\n",
    "    encoded_data = encoder.encode(x, ec)\n",
    "    res.append(encoded_data)"
   ]
  },
  {
   "attachments": {},
   "cell_type": "markdown",
   "metadata": {},
   "source": [
    "Now, `res` contains the packets encoded. We can encrypt it using the format we provided (see `packet.py`)."
   ]
  },
  {
   "attachments": {},
   "cell_type": "markdown",
   "metadata": {},
   "source": [
    "(Optional) write the encoded output to a SILK file (that can be decoded by the `decoder` test program provided by the SILK library)"
   ]
  },
  {
   "cell_type": "code",
   "execution_count": 15,
   "metadata": {},
   "outputs": [],
   "source": [
    "def write_silk_file(filename: str, packets: list):\n",
    "    with open(filename, 'wb') as f:\n",
    "        f.write(b'#!SILK_V3')\n",
    "        for x in packets:\n",
    "            f.write(struct.pack(\"<h\", len(x)))\n",
    "            f.write(x)\n",
    "\n",
    "write_silk_file('test_output.bin', res)"
   ]
  },
  {
   "cell_type": "code",
   "execution_count": 24,
   "metadata": {},
   "outputs": [
    {
     "name": "stdout",
     "output_type": "stream",
     "text": [
      "35\n"
     ]
    }
   ],
   "source": [
    "print(len(res))"
   ]
  },
  {
   "attachments": {},
   "cell_type": "markdown",
   "metadata": {},
   "source": [
    "Let's try decoding it"
   ]
  },
  {
   "cell_type": "code",
   "execution_count": 11,
   "metadata": {},
   "outputs": [
    {
     "name": "stdout",
     "output_type": "stream",
     "text": [
      "output_size: 160\n",
      "output_size: 160\n",
      "output_size: 160\n",
      "output_size: 160\n",
      "output_size: 160\n",
      "5\n",
      "800\n",
      "output_size: 160\n",
      "output_size: 160\n",
      "output_size: 160\n",
      "output_size: 160\n",
      "output_size: 160\n",
      "5\n",
      "800\n",
      "output_size: 160\n",
      "output_size: 160\n",
      "output_size: 160\n",
      "output_size: 160\n",
      "output_size: 160\n",
      "5\n",
      "800\n",
      "output_size: 160\n",
      "output_size: 160\n",
      "output_size: 160\n",
      "output_size: 160\n",
      "output_size: 160\n",
      "5\n",
      "800\n",
      "output_size: 160\n",
      "output_size: 160\n",
      "output_size: 160\n",
      "output_size: 160\n",
      "output_size: 160\n",
      "5\n",
      "800\n",
      "output_size: 160\n",
      "output_size: 160\n",
      "output_size: 160\n",
      "output_size: 160\n",
      "output_size: 160\n",
      "5\n",
      "800\n",
      "output_size: 160\n",
      "output_size: 160\n",
      "output_size: 160\n",
      "output_size: 160\n",
      "output_size: 160\n",
      "5\n",
      "800\n",
      "output_size: 160\n",
      "output_size: 160\n",
      "output_size: 160\n",
      "output_size: 160\n",
      "output_size: 160\n",
      "5\n",
      "800\n",
      "output_size: 160\n",
      "output_size: 160\n",
      "output_size: 160\n",
      "output_size: 160\n",
      "output_size: 160\n",
      "5\n",
      "800\n",
      "output_size: 160\n",
      "output_size: 160\n",
      "output_size: 160\n",
      "output_size: 160\n",
      "output_size: 160\n",
      "5\n",
      "800\n",
      "output_size: 160\n",
      "output_size: 160\n",
      "output_size: 160\n",
      "output_size: 160\n",
      "output_size: 160\n",
      "5\n",
      "800\n",
      "output_size: 160\n",
      "output_size: 160\n",
      "output_size: 160\n",
      "output_size: 160\n",
      "output_size: 160\n",
      "5\n",
      "800\n",
      "output_size: 160\n",
      "output_size: 160\n",
      "output_size: 160\n",
      "output_size: 160\n",
      "output_size: 160\n",
      "5\n",
      "800\n",
      "output_size: 160\n",
      "output_size: 160\n",
      "output_size: 160\n",
      "output_size: 160\n",
      "output_size: 160\n",
      "5\n",
      "800\n",
      "output_size: 160\n",
      "output_size: 160\n",
      "output_size: 160\n",
      "output_size: 160\n",
      "output_size: 160\n",
      "5\n",
      "800\n",
      "output_size: 160\n",
      "output_size: 160\n",
      "output_size: 160\n",
      "output_size: 160\n",
      "output_size: 160\n",
      "5\n",
      "800\n",
      "output_size: 160\n",
      "output_size: 160\n",
      "output_size: 160\n",
      "output_size: 160\n",
      "output_size: 160\n",
      "5\n",
      "800\n",
      "output_size: 160\n",
      "output_size: 160\n",
      "output_size: 160\n",
      "output_size: 160\n",
      "output_size: 160\n",
      "5\n",
      "800\n",
      "output_size: 160\n",
      "output_size: 160\n",
      "output_size: 160\n",
      "output_size: 160\n",
      "output_size: 160\n",
      "5\n",
      "800\n",
      "output_size: 160\n",
      "output_size: 160\n",
      "output_size: 160\n",
      "output_size: 160\n",
      "output_size: 160\n",
      "5\n",
      "800\n",
      "output_size: 160\n",
      "output_size: 160\n",
      "output_size: 160\n",
      "output_size: 160\n",
      "output_size: 160\n",
      "5\n",
      "800\n",
      "output_size: 160\n",
      "output_size: 160\n",
      "output_size: 160\n",
      "output_size: 160\n",
      "output_size: 160\n",
      "5\n",
      "800\n",
      "output_size: 160\n",
      "output_size: 160\n",
      "output_size: 160\n",
      "output_size: 160\n",
      "output_size: 160\n",
      "5\n",
      "800\n",
      "output_size: 160\n",
      "output_size: 160\n",
      "output_size: 160\n",
      "output_size: 160\n",
      "output_size: 160\n",
      "5\n",
      "800\n",
      "output_size: 160\n",
      "output_size: 160\n",
      "output_size: 160\n",
      "output_size: 160\n",
      "output_size: 160\n",
      "5\n",
      "800\n",
      "output_size: 160\n",
      "output_size: 160\n",
      "output_size: 160\n",
      "output_size: 160\n",
      "output_size: 160\n",
      "5\n",
      "800\n",
      "output_size: 160\n",
      "output_size: 160\n",
      "output_size: 160\n",
      "output_size: 160\n",
      "output_size: 160\n",
      "5\n",
      "800\n",
      "output_size: 160\n",
      "output_size: 160\n",
      "output_size: 160\n",
      "output_size: 160\n",
      "output_size: 160\n",
      "5\n",
      "800\n",
      "output_size: 160\n",
      "output_size: 160\n",
      "output_size: 160\n",
      "output_size: 160\n",
      "output_size: 160\n",
      "5\n",
      "800\n",
      "output_size: 160\n",
      "output_size: 160\n",
      "output_size: 160\n",
      "output_size: 160\n",
      "output_size: 160\n",
      "5\n",
      "800\n",
      "output_size: 160\n",
      "output_size: 160\n",
      "output_size: 160\n",
      "output_size: 160\n",
      "output_size: 160\n",
      "5\n",
      "800\n",
      "output_size: 160\n",
      "output_size: 160\n",
      "output_size: 160\n",
      "output_size: 160\n",
      "output_size: 160\n",
      "5\n",
      "800\n",
      "output_size: 160\n",
      "output_size: 160\n",
      "output_size: 160\n",
      "output_size: 160\n",
      "output_size: 160\n",
      "5\n",
      "800\n",
      "output_size: 160\n",
      "output_size: 160\n",
      "output_size: 160\n",
      "output_size: 160\n",
      "output_size: 160\n",
      "5\n",
      "800\n",
      "output_size: 160\n",
      "output_size: 160\n",
      "output_size: 160\n",
      "output_size: 160\n",
      "output_size: 160\n",
      "5\n",
      "800\n",
      "output_size: 160\n",
      "output_size: 160\n",
      "output_size: 160\n",
      "output_size: 160\n",
      "output_size: 160\n",
      "5\n",
      "800\n",
      "output_size: 160\n",
      "output_size: 160\n",
      "output_size: 160\n",
      "output_size: 160\n",
      "output_size: 160\n",
      "5\n",
      "800\n",
      "output_size: 160\n",
      "output_size: 160\n",
      "output_size: 160\n",
      "output_size: 160\n",
      "output_size: 160\n",
      "5\n",
      "800\n",
      "output_size: 160\n",
      "output_size: 160\n",
      "output_size: 160\n",
      "output_size: 160\n",
      "output_size: 160\n",
      "5\n",
      "800\n",
      "output_size: 160\n",
      "output_size: 160\n",
      "output_size: 160\n",
      "output_size: 160\n",
      "output_size: 160\n",
      "5\n",
      "800\n",
      "output_size: 160\n",
      "output_size: 160\n",
      "output_size: 160\n",
      "output_size: 160\n",
      "output_size: 160\n",
      "5\n",
      "800\n",
      "output_size: 160\n",
      "output_size: 160\n",
      "output_size: 160\n",
      "output_size: 160\n",
      "output_size: 160\n",
      "5\n",
      "800\n",
      "output_size: 160\n",
      "output_size: 160\n",
      "output_size: 160\n",
      "output_size: 160\n",
      "output_size: 160\n",
      "5\n",
      "800\n",
      "output_size: 160\n",
      "output_size: 160\n",
      "output_size: 160\n",
      "output_size: 160\n",
      "output_size: 160\n",
      "5\n",
      "800\n",
      "output_size: 160\n",
      "output_size: 160\n",
      "output_size: 160\n",
      "output_size: 160\n",
      "output_size: 160\n",
      "5\n",
      "800\n"
     ]
    }
   ],
   "source": [
    "decoded = []\n",
    "decoder = silk.Decoder(sample_rate=fsps)\n",
    "for x in res:\n",
    "    # print(x)\n",
    "    decoded_data = decoder.decode2(x)\n",
    "    decoded.append(decoded_data)\n",
    "    print(len(decoded_data))"
   ]
  },
  {
   "cell_type": "code",
   "execution_count": 12,
   "metadata": {},
   "outputs": [],
   "source": [
    "decoded_samples = np.concatenate([np.frombuffer(x, dtype='int16') for x in decoded])"
   ]
  },
  {
   "cell_type": "code",
   "execution_count": 13,
   "metadata": {},
   "outputs": [
    {
     "name": "stdout",
     "output_type": "stream",
     "text": [
      "36000\n"
     ]
    }
   ],
   "source": [
    "print(len(decoded_samples))"
   ]
  },
  {
   "attachments": {},
   "cell_type": "markdown",
   "metadata": {},
   "source": [
    "Play the decoded samples to see it actually works"
   ]
  },
  {
   "cell_type": "code",
   "execution_count": 14,
   "metadata": {},
   "outputs": [],
   "source": [
    "sd.play(decoded_samples, samplerate=fsps, blocking=True)"
   ]
  },
  {
   "attachments": {},
   "cell_type": "markdown",
   "metadata": {},
   "source": [
    "Below are drafts"
   ]
  },
  {
   "cell_type": "code",
   "execution_count": 16,
   "metadata": {},
   "outputs": [],
   "source": [
    "correct_decoded = utils.read_raw_audio('test_output.raw')"
   ]
  },
  {
   "cell_type": "code",
   "execution_count": 32,
   "metadata": {},
   "outputs": [],
   "source": [
    "sd.play(correct_decoded, samplerate=fsps, blocking=True)"
   ]
  },
  {
   "cell_type": "code",
   "execution_count": 17,
   "metadata": {},
   "outputs": [
    {
     "data": {
      "image/png": "[encoded data removed]",
      "text/plain": [
       "<Figure size 640x480 with 1 Axes>"
      ]
     },
     "metadata": {},
     "output_type": "display_data"
    }
   ],
   "source": [
    "plt.figure()\n",
    "plt.plot(decoded_samples[0:900], 'r')\n",
    "plt.plot(correct_decoded[0:900], 'b')\n",
    "plt.show()"
   ]
  }
 ],
 "metadata": {
  "kernelspec": {
   "display_name": "sdrenv",
   "language": "python",
   "name": "python3"
  },
  "language_info": {
   "codemirror_mode": {
    "name": "ipython",
    "version": 3
   },
   "file_extension": ".py",
   "mimetype": "text/x-python",
   "name": "python",
   "nbconvert_exporter": "python",
   "pygments_lexer": "ipython3",
   "version": "3.11.3"
  },
  "orig_nbformat": 4
 },
 "nbformat": 4,
 "nbformat_minor": 2
}
